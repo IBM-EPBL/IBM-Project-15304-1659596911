{
  "nbformat": 4,
  "nbformat_minor": 0,
  "metadata": {
    "colab": {
      "provenance": []
    },
    "kernelspec": {
      "name": "python3",
      "display_name": "Python 3"
    },
    "language_info": {
      "name": "python"
    }
  },
  "cells": [
    {
      "cell_type": "code",
      "execution_count": 1,
      "metadata": {
        "colab": {
          "base_uri": "https://localhost:8080/"
        },
        "id": "iHAwYbgx2lGZ",
        "outputId": "cde81efa-cf22-4503-a121-8bd333ed60e3"
      },
      "outputs": [
        {
          "output_type": "stream",
          "name": "stdout",
          "text": [
            "     v1                                                 v2 Unnamed: 2  \\\n",
            "0   ham  Go until jurong point, crazy.. Available only ...        NaN   \n",
            "1   ham                      Ok lar... Joking wif u oni...        NaN   \n",
            "2  spam  Free entry in 2 a wkly comp to win FA Cup fina...        NaN   \n",
            "3   ham  U dun say so early hor... U c already then say...        NaN   \n",
            "4   ham  Nah I don't think he goes to usf, he lives aro...        NaN   \n",
            "\n",
            "  Unnamed: 3 Unnamed: 4  \n",
            "0        NaN        NaN  \n",
            "1        NaN        NaN  \n",
            "2        NaN        NaN  \n",
            "3        NaN        NaN  \n",
            "4        NaN        NaN  \n",
            "<class 'pandas.core.frame.DataFrame'>\n",
            "RangeIndex: 5572 entries, 0 to 5571\n",
            "Data columns (total 5 columns):\n",
            " #   Column      Non-Null Count  Dtype \n",
            "---  ------      --------------  ----- \n",
            " 0   v1          5572 non-null   object\n",
            " 1   v2          5572 non-null   object\n",
            " 2   Unnamed: 2  50 non-null     object\n",
            " 3   Unnamed: 3  12 non-null     object\n",
            " 4   Unnamed: 4  6 non-null      object\n",
            "dtypes: object(5)\n",
            "memory usage: 217.8+ KB\n",
            "None\n"
          ]
        }
      ],
      "source": [
        "import pandas as pd\n",
        "dataset = pd.read_csv('spam.csv', encoding='latin-1')\n",
        "print(dataset.head())\n",
        "print(dataset.info())"
      ]
    },
    {
      "cell_type": "code",
      "source": [
        "import matplotlib.pyplot as plt\n",
        "import seaborn as sns"
      ],
      "metadata": {
        "id": "rSTLchMM3pxJ"
      },
      "execution_count": 2,
      "outputs": []
    },
    {
      "cell_type": "code",
      "source": [
        "sns.countplot(data=dataset, x=dataset['v1'])"
      ],
      "metadata": {
        "colab": {
          "base_uri": "https://localhost:8080/",
          "height": 297
        },
        "id": "3UvUX2t63sJv",
        "outputId": "10b11557-67d0-48c4-d9dd-02a5666240bc"
      },
      "execution_count": 3,
      "outputs": [
        {
          "output_type": "execute_result",
          "data": {
            "text/plain": [
              "<matplotlib.axes._subplots.AxesSubplot at 0x7f0f63f191d0>"
            ]
          },
          "metadata": {},
          "execution_count": 3
        },
        {
          "output_type": "display_data",
          "data": {
            "text/plain": [
              "<Figure size 432x288 with 1 Axes>"
            ],
            "image/png": "[encoded data removed]"
          },
          "metadata": {
            "needs_background": "light"
          }
        }
      ]
    },
    {
      "cell_type": "code",
      "source": [
        "text = dataset.loc[:, 'v2']\n",
        "classification = dataset.loc[:, 'v1']\n",
        "print(text)\n",
        "print(classification)"
      ],
      "metadata": {
        "colab": {
          "base_uri": "https://localhost:8080/"
        },
        "id": "BnA6cslp3vBJ",
        "outputId": "61e09628-cc39-4aa7-a50a-ba366541ddb5"
      },
      "execution_count": 4,
      "outputs": [
        {
          "output_type": "stream",
          "name": "stdout",
          "text": [
            "0       Go until jurong point, crazy.. Available only ...\n",
            "1                           Ok lar... Joking wif u oni...\n",
            "2       Free entry in 2 a wkly comp to win FA Cup fina...\n",
            "3       U dun say so early hor... U c already then say...\n",
            "4       Nah I don't think he goes to usf, he lives aro...\n",
            "                              ...                        \n",
            "5567    This is the 2nd time we have tried 2 contact u...\n",
            "5568                Will Ì_ b going to esplanade fr home?\n",
            "5569    Pity, * was in mood for that. So...any other s...\n",
            "5570    The guy did some bitching but I acted like i'd...\n",
            "5571                           Rofl. Its true to its name\n",
            "Name: v2, Length: 5572, dtype: object\n",
            "0        ham\n",
            "1        ham\n",
            "2       spam\n",
            "3        ham\n",
            "4        ham\n",
            "        ... \n",
            "5567    spam\n",
            "5568     ham\n",
            "5569     ham\n",
            "5570     ham\n",
            "5571     ham\n",
            "Name: v1, Length: 5572, dtype: object\n"
          ]
        }
      ]
    },
    {
      "cell_type": "code",
      "source": [
        "from nltk import word_tokenize\n",
        "from sklearn.model_selection import train_test_split\n",
        "import nltk\n",
        "nltk.download('punkt')"
      ],
      "metadata": {
        "colab": {
          "base_uri": "https://localhost:8080/"
        },
        "id": "S2Q_OAb83xad",
        "outputId": "55fc69ae-1aa5-4140-8e18-ad91a4117727"
      },
      "execution_count": 5,
      "outputs": [
        {
          "output_type": "stream",
          "name": "stderr",
          "text": [
            "[nltk_data] Downloading package punkt to /root/nltk_data...\n",
            "[nltk_data]   Unzipping tokenizers/punkt.zip.\n"
          ]
        },
        {
          "output_type": "execute_result",
          "data": {
            "text/plain": [
              "True"
            ]
          },
          "metadata": {},
          "execution_count": 5
        }
      ]
    },
    {
      "cell_type": "code",
      "source": [
        "x_train, x_test, y_train, y_test = train_test_split(text, classification, test_size=0.2, random_state=42)"
      ],
      "metadata": {
        "id": "tg6zvZtk34wu"
      },
      "execution_count": 6,
      "outputs": []
    },
    {
      "cell_type": "code",
      "source": [
        "text_length = []\n",
        "for i in x_train :\n",
        "  text_length.append(len(word_tokenize(i)))"
      ],
      "metadata": {
        "id": "lOg3BbwF37EM"
      },
      "execution_count": 7,
      "outputs": []
    },
    {
      "cell_type": "code",
      "source": [
        "print(max(text_length))"
      ],
      "metadata": {
        "colab": {
          "base_uri": "https://localhost:8080/"
        },
        "id": "RvtaqCnT39pc",
        "outputId": "e88a7b9b-095e-43eb-cef9-95dc295d036b"
      },
      "execution_count": 8,
      "outputs": [
        {
          "output_type": "stream",
          "name": "stdout",
          "text": [
            "220\n"
          ]
        }
      ]
    },
    {
      "cell_type": "code",
      "source": [
        "from keras.preprocessing.text import Tokenizer"
      ],
      "metadata": {
        "id": "px9mHtXH3_i4"
      },
      "execution_count": 9,
      "outputs": []
    },
    {
      "cell_type": "code",
      "source": [
        "max_sequence_length = 38\n",
        "\n",
        "tok = Tokenizer()\n",
        "tok.fit_on_texts(x_train.values)"
      ],
      "metadata": {
        "id": "eYqhtIYz4Bfz"
      },
      "execution_count": 10,
      "outputs": []
    },
    {
      "cell_type": "code",
      "source": [
        "vocab_length = len(tok.word_index)"
      ],
      "metadata": {
        "id": "PcRNrk0B4D-t"
      },
      "execution_count": 11,
      "outputs": []
    },
    {
      "cell_type": "code",
      "source": [
        "vocab_length = len(tok.word_index)"
      ],
      "metadata": {
        "id": "KxhgzkfG4GIu"
      },
      "execution_count": 12,
      "outputs": []
    },
    {
      "cell_type": "code",
      "source": [
        "x_train_sequences = tok.texts_to_sequences(x_train.values)\n",
        "x_test_sequences = tok.texts_to_sequences(x_test.values)"
      ],
      "metadata": {
        "id": "oJitrpRA4MkK"
      },
      "execution_count": 13,
      "outputs": []
    },
    {
      "cell_type": "code",
      "source": [
        "from tensorflow.keras.utils import pad_sequences"
      ],
      "metadata": {
        "id": "Q8eS9cDy4O8z"
      },
      "execution_count": 14,
      "outputs": []
    },
    {
      "cell_type": "code",
      "source": [
        "x_train = pad_sequences(x_train_sequences, maxlen=max_sequence_length)\n",
        "x_test = pad_sequences(x_test_sequences, maxlen=max_sequence_length)"
      ],
      "metadata": {
        "id": "gVSKaVHJ4Q4s"
      },
      "execution_count": 15,
      "outputs": []
    },
    {
      "cell_type": "code",
      "source": [
        "x_train[:2]"
      ],
      "metadata": {
        "colab": {
          "base_uri": "https://localhost:8080/"
        },
        "id": "U5MSl0uX4TD0",
        "outputId": "23487034-eb56-4827-cbcc-273b52dfb302"
      },
      "execution_count": 16,
      "outputs": [
        {
          "output_type": "execute_result",
          "data": {
            "text/plain": [
              "array([[   0,    0,    0,    0,    0,    0,    0,    0,    0,    0,    0,\n",
              "           0,    0,    0,    0,    0,    0,    0,    0,   38,   30,    8,\n",
              "           5,  273, 1989,   81,  116,   26,   11, 1656,  322,   10,   53,\n",
              "          18,  299,   30,  349, 1990],\n",
              "       [   0,    0,    0,    0,    0,    0,    0,    0,    0,    0,    0,\n",
              "           0,    0,    0,    0,  799,   15, 2555, 1442, 1127,  192, 2556,\n",
              "         171,   12,   98, 1991,   44,  195, 1657, 2557, 1992, 2558,   21,\n",
              "           9,    4,  203, 1025,  225]], dtype=int32)"
            ]
          },
          "metadata": {},
          "execution_count": 16
        }
      ]
    },
    {
      "cell_type": "code",
      "source": [
        "y_train.values"
      ],
      "metadata": {
        "colab": {
          "base_uri": "https://localhost:8080/"
        },
        "id": "aSKjsVWW4VoN",
        "outputId": "66df360c-ccd2-4193-f9e5-e7d21abde51c"
      },
      "execution_count": 17,
      "outputs": [
        {
          "output_type": "execute_result",
          "data": {
            "text/plain": [
              "array(['ham', 'spam', 'ham', ..., 'ham', 'ham', 'ham'], dtype=object)"
            ]
          },
          "metadata": {},
          "execution_count": 17
        }
      ]
    },
    {
      "cell_type": "code",
      "source": [
        "from sklearn.preprocessing import LabelEncoder"
      ],
      "metadata": {
        "id": "SmrHy1aK4X_L"
      },
      "execution_count": 18,
      "outputs": []
    },
    {
      "cell_type": "code",
      "source": [
        "le = LabelEncoder()\n",
        "y_train = le.fit_transform(y_train)\n",
        "y_test = le.fit_transform(y_test)\n",
        "print(y_train)"
      ],
      "metadata": {
        "colab": {
          "base_uri": "https://localhost:8080/"
        },
        "id": "aISjSb6O4aL9",
        "outputId": "5af6a6c3-a552-4113-89e8-199f181e281f"
      },
      "execution_count": 19,
      "outputs": [
        {
          "output_type": "stream",
          "name": "stdout",
          "text": [
            "[0 1 0 ... 0 0 0]\n"
          ]
        }
      ]
    },
    {
      "cell_type": "code",
      "source": [
        "from keras.models import Model, load_model\n",
        "from keras.layers import LSTM, Activation, Dense, Dropout, Input, Embedding\n",
        "from keras.optimizers import RMSprop"
      ],
      "metadata": {
        "id": "cftkJEkb4c8E"
      },
      "execution_count": 20,
      "outputs": []
    },
    {
      "cell_type": "code",
      "source": [
        "def create_model(vocab_len, max_seq_len):\n",
        "    inputs = Input(name='inputs', shape=[max_seq_len])   #None, 150\n",
        "    layer = Embedding(vocab_length + 1, 50, input_length=max_seq_len)(inputs) #None, 150, 50\n",
        "    layer = LSTM(64)(layer)  #None, 64\n",
        "    layer = Dense(256,name='FC1')(layer) #None, 256\n",
        "    layer = Activation('relu')(layer) #None, 256\n",
        "    layer = Dropout(0.5)(layer) #None, 256\n",
        "    layer = Dense(1,name='out_layer')(layer) #None, 1\n",
        "    layer = Activation('sigmoid')(layer) #None, 1\n",
        "    model = Model(inputs=inputs,outputs=layer)\n",
        "    model.compile(loss='binary_crossentropy',optimizer=RMSprop(), metrics=['acc'])\n",
        "    return model\n",
        "\n",
        "model = create_model(vocab_length, max_sequence_length)\n",
        "model.summary()"
      ],
      "metadata": {
        "colab": {
          "base_uri": "https://localhost:8080/"
        },
        "id": "CGc5o4ZK4iDw",
        "outputId": "81b09fca-b1fb-4665-b355-78a055a4a49a"
      },
      "execution_count": 21,
      "outputs": [
        {
          "output_type": "stream",
          "name": "stdout",
          "text": [
            "Model: \"model\"\n",
            "_________________________________________________________________\n",
            " Layer (type)                Output Shape              Param #   \n",
            "=================================================================\n",
            " inputs (InputLayer)         [(None, 38)]              0         \n",
            "                                                                 \n",
            " embedding (Embedding)       (None, 38, 50)            397750    \n",
            "                                                                 \n",
            " lstm (LSTM)                 (None, 64)                29440     \n",
            "                                                                 \n",
            " FC1 (Dense)                 (None, 256)               16640     \n",
            "                                                                 \n",
            " activation (Activation)     (None, 256)               0         \n",
            "                                                                 \n",
            " dropout (Dropout)           (None, 256)               0         \n",
            "                                                                 \n",
            " out_layer (Dense)           (None, 1)                 257       \n",
            "                                                                 \n",
            " activation_1 (Activation)   (None, 1)                 0         \n",
            "                                                                 \n",
            "=================================================================\n",
            "Total params: 444,087\n",
            "Trainable params: 444,087\n",
            "Non-trainable params: 0\n",
            "_________________________________________________________________\n"
          ]
        }
      ]
    },
    {
      "cell_type": "code",
      "source": [
        "from keras.callbacks import EarlyStopping, ModelCheckpoint, TensorBoard"
      ],
      "metadata": {
        "id": "R6knVqyC4lJw"
      },
      "execution_count": 22,
      "outputs": []
    },
    {
      "cell_type": "code",
      "source": [
        "history = model.fit(x_train, y_train, batch_size=128, epochs=20, validation_split=0.2)"
      ],
      "metadata": {
        "colab": {
          "base_uri": "https://localhost:8080/"
        },
        "id": "2l3pfzR54nNN",
        "outputId": "8646bdd9-3205-42a5-d857-87e97b4fd777"
      },
      "execution_count": 23,
      "outputs": [
        {
          "output_type": "stream",
          "name": "stdout",
          "text": [
            "Epoch 1/20\n",
            "28/28 [==============================] - 6s 94ms/step - loss: 0.3199 - acc: 0.8746 - val_loss: 0.1659 - val_acc: 0.9462\n",
            "Epoch 2/20\n",
            "28/28 [==============================] - 2s 71ms/step - loss: 0.0999 - acc: 0.9778 - val_loss: 0.0555 - val_acc: 0.9821\n",
            "Epoch 3/20\n",
            "28/28 [==============================] - 2s 71ms/step - loss: 0.0367 - acc: 0.9916 - val_loss: 0.0388 - val_acc: 0.9854\n",
            "Epoch 4/20\n",
            "28/28 [==============================] - 2s 71ms/step - loss: 0.0180 - acc: 0.9952 - val_loss: 0.0450 - val_acc: 0.9854\n",
            "Epoch 5/20\n",
            "28/28 [==============================] - 2s 70ms/step - loss: 0.0096 - acc: 0.9975 - val_loss: 0.0410 - val_acc: 0.9854\n",
            "Epoch 6/20\n",
            "28/28 [==============================] - 2s 69ms/step - loss: 0.0092 - acc: 0.9978 - val_loss: 0.0569 - val_acc: 0.9877\n",
            "Epoch 7/20\n",
            "28/28 [==============================] - 2s 72ms/step - loss: 0.0012 - acc: 0.9994 - val_loss: 0.0739 - val_acc: 0.9854\n",
            "Epoch 8/20\n",
            "28/28 [==============================] - 2s 70ms/step - loss: 7.7716e-04 - acc: 1.0000 - val_loss: 0.0889 - val_acc: 0.9854\n",
            "Epoch 9/20\n",
            "28/28 [==============================] - 2s 71ms/step - loss: 9.4137e-05 - acc: 1.0000 - val_loss: 0.2099 - val_acc: 0.9787\n",
            "Epoch 10/20\n",
            "28/28 [==============================] - 2s 70ms/step - loss: 1.4994e-04 - acc: 1.0000 - val_loss: 0.0875 - val_acc: 0.9865\n",
            "Epoch 11/20\n",
            "28/28 [==============================] - 2s 71ms/step - loss: 8.5347e-06 - acc: 1.0000 - val_loss: 0.0940 - val_acc: 0.9888\n",
            "Epoch 12/20\n",
            "28/28 [==============================] - 2s 70ms/step - loss: 7.6595e-04 - acc: 0.9994 - val_loss: 0.0903 - val_acc: 0.9809\n",
            "Epoch 13/20\n",
            "28/28 [==============================] - 2s 71ms/step - loss: 2.9422e-05 - acc: 1.0000 - val_loss: 0.1060 - val_acc: 0.9854\n",
            "Epoch 14/20\n",
            "28/28 [==============================] - 2s 70ms/step - loss: 2.6998e-06 - acc: 1.0000 - val_loss: 0.1087 - val_acc: 0.9865\n",
            "Epoch 15/20\n",
            "28/28 [==============================] - 2s 71ms/step - loss: 1.4487e-06 - acc: 1.0000 - val_loss: 0.1139 - val_acc: 0.9865\n",
            "Epoch 16/20\n",
            "28/28 [==============================] - 2s 72ms/step - loss: 2.6351e-07 - acc: 1.0000 - val_loss: 0.1209 - val_acc: 0.9877\n",
            "Epoch 17/20\n",
            "28/28 [==============================] - 2s 70ms/step - loss: 1.0206e-07 - acc: 1.0000 - val_loss: 0.1217 - val_acc: 0.9888\n",
            "Epoch 18/20\n",
            "28/28 [==============================] - 2s 71ms/step - loss: 1.9424e-08 - acc: 1.0000 - val_loss: 0.1481 - val_acc: 0.9877\n",
            "Epoch 19/20\n",
            "28/28 [==============================] - 2s 70ms/step - loss: 7.8990e-09 - acc: 1.0000 - val_loss: 0.1438 - val_acc: 0.9877\n",
            "Epoch 20/20\n",
            "28/28 [==============================] - 2s 71ms/step - loss: 1.3494e-08 - acc: 1.0000 - val_loss: 0.1815 - val_acc: 0.9865\n"
          ]
        }
      ]
    },
    {
      "cell_type": "code",
      "source": [
        "history_dict = history.history\n",
        "\n",
        "# list all data in history\n",
        "print(history_dict.keys())\n",
        "\n",
        "# summarize history for loss\n",
        "plt.plot(history_dict['loss'])\n",
        "plt.plot(history_dict['val_loss'])\n",
        "plt.title('Training and Validation Loss')\n",
        "plt.ylabel('loss')\n",
        "plt.xlabel('epoch')\n",
        "plt.legend(['train', 'test'], loc='upper left')\n",
        "plt.show()\n",
        "\n",
        "# summarize history for accuracy\n",
        "plt.plot(history_dict['acc'])\n",
        "plt.plot(history_dict['val_acc'])\n",
        "plt.title('Training and Validation Accuracy')\n",
        "plt.ylabel('accuracy')\n",
        "plt.xlabel('epoch')\n",
        "plt.legend(['train', 'test'], loc='upper left')\n",
        "plt.show()"
      ],
      "metadata": {
        "colab": {
          "base_uri": "https://localhost:8080/",
          "height": 590
        },
        "id": "2iBfl8yC4zMQ",
        "outputId": "67b3589a-c636-42b3-ddd7-ef77e299a0c1"
      },
      "execution_count": 24,
      "outputs": [
        {
          "output_type": "stream",
          "name": "stdout",
          "text": [
            "dict_keys(['loss', 'acc', 'val_loss', 'val_acc'])\n"
          ]
        },
        {
          "output_type": "display_data",
          "data": {
            "text/plain": [
              "<Figure size 432x288 with 1 Axes>"
            ],
            "image/png": "[encoded data removed]"
          },
          "metadata": {
            "needs_background": "light"
          }
        },
        {
          "output_type": "display_data",
          "data": {
            "text/plain": [
              "<Figure size 432x288 with 1 Axes>"
            ],
            "image/png": "[encoded data removed]"
          },
          "metadata": {
            "needs_background": "light"
          }
        }
      ]
    },
    {
      "cell_type": "code",
      "source": [
        "model.save('/content/drive/MyDrive/spam.h5')"
      ],
      "metadata": {
        "id": "4ZkHxMTL4240"
      },
      "execution_count": 25,
      "outputs": []
    },
    {
      "cell_type": "code",
      "source": [
        "loaded_model = load_model('/content/drive/MyDrive/spam.h5')\n",
        "test_loss, test_acc = accr = loaded_model.evaluate(x_test, y_test)\n",
        "print('Test set\\n  Loss: {:0.3f}\\n  Accuracy: {:0.3f}'.format(test_loss, test_acc))"
      ],
      "metadata": {
        "colab": {
          "base_uri": "https://localhost:8080/"
        },
        "id": "7U2-pGXw45YX",
        "outputId": "6b1f7854-c994-4320-c0a0-71cf0737f34a"
      },
      "execution_count": 26,
      "outputs": [
        {
          "output_type": "stream",
          "name": "stdout",
          "text": [
            "35/35 [==============================] - 1s 11ms/step - loss: 0.2557 - acc: 0.9830\n",
            "Test set\n",
            "  Loss: 0.256\n",
            "  Accuracy: 0.983\n"
          ]
        }
      ]
    },
    {
      "cell_type": "code",
      "source": [
        "import numpy as np"
      ],
      "metadata": {
        "id": "BszuV4K047N_"
      },
      "execution_count": 27,
      "outputs": []
    },
    {
      "cell_type": "code",
      "source": [
        "y_pred_prob = loaded_model.predict(x_test)\n",
        "\n",
        "print(np.round(y_pred_prob, 3))\n",
        "y_pred = y_pred_prob > 0.5\n",
        "y_pred"
      ],
      "metadata": {
        "colab": {
          "base_uri": "https://localhost:8080/"
        },
        "id": "UEdpUfFR5AqC",
        "outputId": "d1234992-c2e4-42d1-e748-eba6b36deb3b"
      },
      "execution_count": 28,
      "outputs": [
        {
          "output_type": "stream",
          "name": "stdout",
          "text": [
            "35/35 [==============================] - 1s 8ms/step\n",
            "[[0.   ]\n",
            " [0.   ]\n",
            " [0.995]\n",
            " ...\n",
            " [0.   ]\n",
            " [0.   ]\n",
            " [1.   ]]\n"
          ]
        },
        {
          "output_type": "execute_result",
          "data": {
            "text/plain": [
              "array([[False],\n",
              "       [False],\n",
              "       [ True],\n",
              "       ...,\n",
              "       [False],\n",
              "       [False],\n",
              "       [ True]])"
            ]
          },
          "metadata": {},
          "execution_count": 28
        }
      ]
    },
    {
      "cell_type": "code",
      "source": [
        "for i in range(5):\n",
        "    print('%s => %d (expected %d)' % (x_test[i].tolist(), y_pred[i], y_test[i]))"
      ],
      "metadata": {
        "colab": {
          "base_uri": "https://localhost:8080/"
        },
        "id": "yeZOKchT5Dlk",
        "outputId": "e6185e4d-4976-4c5f-8025-3a37c18b2547"
      },
      "execution_count": 29,
      "outputs": [
        {
          "output_type": "stream",
          "name": "stdout",
          "text": [
            "[0, 0, 0, 0, 0, 0, 0, 0, 0, 0, 0, 0, 0, 0, 0, 0, 0, 0, 0, 0, 0, 1366, 1578, 1432, 19, 7893, 19, 19, 38, 118, 1650, 19, 738, 4, 449, 3023, 35, 1285] => 0 (expected 0)\n",
            "[1, 188, 11, 6440, 2, 7, 1, 135, 2, 28, 12, 4, 290, 7931, 1, 104, 33, 3, 22, 647, 15, 28, 4, 3607, 18, 374, 191, 224, 2137, 107, 433, 9, 74, 10, 5, 1097, 1806, 1171] => 0 (expected 0)\n",
            "[0, 0, 0, 0, 0, 0, 0, 0, 0, 0, 0, 0, 0, 0, 0, 0, 0, 0, 0, 0, 39, 54, 258, 144, 3, 54, 21, 3428, 3, 16, 2, 173, 53, 144, 761, 264, 7182, 208] => 1 (expected 1)\n",
            "[0, 0, 0, 0, 0, 0, 0, 0, 0, 0, 64, 33, 3, 1528, 13, 263, 53, 79, 228, 79, 3, 31, 7, 838, 69, 10, 8, 5, 168, 2, 205, 10, 54, 3, 499, 14, 8, 46] => 0 (expected 0)\n",
            "[0, 0, 0, 0, 0, 0, 0, 0, 0, 0, 0, 0, 0, 0, 715, 29, 357, 532, 622, 15, 1107, 528, 706, 49, 435, 19, 98, 563, 496, 292, 71, 521, 2, 906, 1546, 138, 1200, 2216] => 1 (expected 1)\n"
          ]
        }
      ]
    },
    {
      "cell_type": "code",
      "source": [
        "from sklearn.metrics import classification_report"
      ],
      "metadata": {
        "id": "q5K0MS8Y5FsP"
      },
      "execution_count": 30,
      "outputs": []
    },
    {
      "cell_type": "code",
      "source": [
        "print(classification_report(y_test, y_pred))"
      ],
      "metadata": {
        "id": "j6oXGekH5Hvv",
        "outputId": "744f087e-748f-4b34-8f80-ebe9482b8a13",
        "colab": {
          "base_uri": "https://localhost:8080/"
        }
      },
      "execution_count": 31,
      "outputs": [
        {
          "output_type": "stream",
          "name": "stdout",
          "text": [
            "              precision    recall  f1-score   support\n",
            "\n",
            "           0       0.98      1.00      0.99       965\n",
            "           1       1.00      0.87      0.93       150\n",
            "\n",
            "    accuracy                           0.98      1115\n",
            "   macro avg       0.99      0.94      0.96      1115\n",
            "weighted avg       0.98      0.98      0.98      1115\n",
            "\n"
          ]
        }
      ]
    }
  ]
}